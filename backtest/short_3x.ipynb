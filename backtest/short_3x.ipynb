{
 "cells": [
  {
   "cell_type": "markdown",
   "metadata": {},
   "source": []
  },
  {
   "cell_type": "markdown",
   "metadata": {},
   "source": [
    "# Covered Calls Leap Trader"
   ]
  },
  {
   "cell_type": "markdown",
   "metadata": {},
   "source": [
    "## Imports"
   ]
  },
  {
   "cell_type": "code",
   "execution_count": 45,
   "metadata": {},
   "outputs": [],
   "source": [
    "# Imports\n",
    "import matplotlib.pyplot as plt\n",
    "import numpy as np\n",
    "import pandas as pd\n",
    "import plotly.graph_objects as go\n",
    "import plotly.io as pio\n",
    "import yfinance as yf\n",
    "\n",
    "from dateutil.relativedelta import relativedelta\n",
    "\n",
    "from tqdm import tqdm\n",
    "tqdm.pandas()"
   ]
  },
  {
   "cell_type": "code",
   "execution_count": 65,
   "metadata": {},
   "outputs": [
    {
     "name": "stderr",
     "output_type": "stream",
     "text": [
      "[*********************100%***********************]  1 of 1 completed\n"
     ]
    }
   ],
   "source": [
    "# Get options data `AFTER_DATE`\n",
    "AFTER_DATE = pd.to_datetime('2018-01-01')\n",
    "BEFORE_DATE = pd.to_datetime('2023-12-31')\n",
    "\n",
    "# Sets a maximum days to expiration\n",
    "MAX_DAYS_TILL_EXPIRATION = 400\n",
    "\n",
    "# Sets the ticker to trade\n",
    "TICKERS = ['QQQ', 'SPY']\n",
    "\n",
    "market_dates = yf.download('SPY').index\n",
    "pd.set_option('display.float_format', '{:.6f}'.format)  "
   ]
  },
  {
   "cell_type": "markdown",
   "metadata": {},
   "source": [
    "## Read In File"
   ]
  },
  {
   "cell_type": "code",
   "execution_count": 47,
   "metadata": {},
   "outputs": [
    {
     "name": "stdout",
     "output_type": "stream",
     "text": [
      "QQQ\n",
      "SPY\n"
     ]
    }
   ],
   "source": [
    "# Initialize a dictionary to hold dataframes for each ticker\n",
    "portfolio_option_data = {}\n",
    "\n",
    "# Iterate through tickers and set dictionary to hold proper data\n",
    "for TICKER in TICKERS:\n",
    "    \n",
    "    print(TICKER)\n",
    "    \n",
    "    # Read data\n",
    "    portfolio_option_data[TICKER] = pd.read_parquet(f'../read_data/data/clean/{TICKER}.parquet')"
   ]
  },
  {
   "cell_type": "code",
   "execution_count": 48,
   "metadata": {},
   "outputs": [
    {
     "name": "stderr",
     "output_type": "stream",
     "text": [
      "[*********************100%***********************]  2 of 2 completed\n"
     ]
    },
    {
     "data": {
      "text/plain": [
       "MultiIndex([('Adj Close', 'SPY'),\n",
       "            ('Adj Close', 'QQQ'),\n",
       "            (    'Close', 'SPY'),\n",
       "            (    'Close', 'QQQ'),\n",
       "            (     'High', 'SPY'),\n",
       "            (     'High', 'QQQ'),\n",
       "            (      'Low', 'SPY'),\n",
       "            (      'Low', 'QQQ'),\n",
       "            (     'Open', 'SPY'),\n",
       "            (     'Open', 'QQQ'),\n",
       "            (   'Volume', 'SPY'),\n",
       "            (   'Volume', 'QQQ')],\n",
       "           names=['Price', 'Ticker'])"
      ]
     },
     "execution_count": 48,
     "metadata": {},
     "output_type": "execute_result"
    }
   ],
   "source": [
    "stocks = yf.download(['TQQQ', 'SPXL'])\n",
    "stocks.index = stocks.index.tz_localize(None)\n",
    "stocks = stocks.rename(columns={'TQQQ': 'QQQ', 'SPXL': 'SPY'}, level=1)\n",
    "stocks.columns"
   ]
  },
  {
   "cell_type": "code",
   "execution_count": 49,
   "metadata": {},
   "outputs": [
    {
     "name": "stdout",
     "output_type": "stream",
     "text": [
      "QQQ\n"
     ]
    },
    {
     "name": "stderr",
     "output_type": "stream",
     "text": [
      "100%|██████████| 3017/3017 [00:03<00:00, 790.59it/s]\n"
     ]
    },
    {
     "name": "stdout",
     "output_type": "stream",
     "text": [
      "SPY\n"
     ]
    },
    {
     "name": "stderr",
     "output_type": "stream",
     "text": [
      "100%|██████████| 3500/3500 [00:05<00:00, 660.20it/s]\n"
     ]
    }
   ],
   "source": [
    "portfolio_leap_options = {}\n",
    "\n",
    "# Find best leap contracts\n",
    "for TICKER in TICKERS:\n",
    "    print(TICKER)\n",
    "\n",
    "    # Group by date\n",
    "    portfolio_leap_options[TICKER] = portfolio_option_data[TICKER].groupby(['date']).progress_apply(\n",
    "\n",
    "        # Iterate through each group (for other code readers, think about the following code as a function for each `date` within the all_options_data dataframe)\n",
    "        lambda group: group.loc[\n",
    "\n",
    "            # Get first `expiration_date` that surpasses year from `date`... aka first leap\n",
    "            (group['expiration_date'] == group.loc[\n",
    "                group['expiration_date'] > (group.name + relativedelta(months=11))]\n",
    "                ['expiration_date'].min())\n",
    "            \n",
    "            ]\n",
    "\n",
    "            # Of these `expiration_date`s, make sure that `days_till_expiration` < criteria\n",
    "            .loc[group['days_till_expiration'] < MAX_DAYS_TILL_EXPIRATION]\n",
    "\n",
    "            # Of these `expiration_date`s with aforementioned critetia, obtain the option with the smallest `strike_distance`\n",
    "            .nsmallest(1, 'strike_distance')\n",
    "\n",
    "            # Output these column\n",
    "            [['expiration_date', 'strike', 'days_till_expiration', 'put_price', 'stock_price']]\n",
    "\n",
    "        # Reset index so date is column and drop added `level_1` index\n",
    "        ).reset_index().drop(columns = ['level_1']).dropna()"
   ]
  },
  {
   "cell_type": "code",
   "execution_count": 50,
   "metadata": {},
   "outputs": [
    {
     "name": "stdout",
     "output_type": "stream",
     "text": [
      "QQQ\n"
     ]
    },
    {
     "name": "stderr",
     "output_type": "stream",
     "text": [
      "100%|██████████| 1842/1842 [00:31<00:00, 58.46it/s]\n",
      "100%|██████████| 1842/1842 [00:36<00:00, 50.52it/s]\n"
     ]
    },
    {
     "name": "stdout",
     "output_type": "stream",
     "text": [
      "SPY\n"
     ]
    },
    {
     "name": "stderr",
     "output_type": "stream",
     "text": [
      "100%|██████████| 2944/2944 [00:49<00:00, 59.36it/s]\n",
      "100%|██████████| 2944/2944 [01:29<00:00, 33.03it/s]\n"
     ]
    },
    {
     "data": {
      "text/plain": [
       "dict_keys(['QQQ', 'SPY'])"
      ]
     },
     "execution_count": 50,
     "metadata": {},
     "output_type": "execute_result"
    }
   ],
   "source": [
    "all_strategies = {}\n",
    "# Iterate through strategies\n",
    "for TICKER in TICKERS:\n",
    "    print(TICKER)\n",
    "    \n",
    "    # Get leaps after date and before date\n",
    "    strat = portfolio_leap_options[TICKER].copy()\n",
    "    strat['sell_date'] = strat.progress_apply(lambda row: np.max([date for date in market_dates if date < row['expiration_date']]), axis=1)\n",
    "    strat['last_price'] = strat.progress_apply(lambda row: portfolio_option_data[TICKER].loc[\n",
    "        (portfolio_option_data[TICKER]['expiration_date'] == row['expiration_date']) &\n",
    "        (portfolio_option_data[TICKER]['strike'] == row['strike']) & \n",
    "        (portfolio_option_data[TICKER]['date'] <= row['sell_date'])\n",
    "    ]['put_price'].iloc[-1], axis=1)\n",
    "    all_strategies[TICKER] = strat\n",
    "\n",
    "stocks = stocks[AFTER_DATE:BEFORE_DATE]\n",
    "all_strategies.keys()"
   ]
  },
  {
   "cell_type": "markdown",
   "metadata": {},
   "source": [
    "## Get Leap Options After Date"
   ]
  },
  {
   "cell_type": "code",
   "execution_count": 66,
   "metadata": {},
   "outputs": [
    {
     "name": "stdout",
     "output_type": "stream",
     "text": [
      "QQQ\n",
      "SPY\n"
     ]
    },
    {
     "data": {
      "text/plain": [
       "dict_keys(['QQQ', 'SPY'])"
      ]
     },
     "execution_count": 66,
     "metadata": {},
     "output_type": "execute_result"
    }
   ],
   "source": [
    "strategies = {}\n",
    "# Iterate through strategies\n",
    "for TICKER in TICKERS:\n",
    "    print(TICKER)\n",
    "    \n",
    "    # Get leaps after date and before date\n",
    "    strat = all_strategies[TICKER].loc[(all_strategies[TICKER]['date'] > AFTER_DATE) & (all_strategies[TICKER]['expiration_date'] < BEFORE_DATE)].copy()\n",
    "    strategies[TICKER] = strat\n",
    "\n",
    "strategies.keys()"
   ]
  },
  {
   "cell_type": "code",
   "execution_count": 67,
   "metadata": {},
   "outputs": [
    {
     "data": {
      "text/html": [
       "<div>\n",
       "<style scoped>\n",
       "    .dataframe tbody tr th:only-of-type {\n",
       "        vertical-align: middle;\n",
       "    }\n",
       "\n",
       "    .dataframe tbody tr th {\n",
       "        vertical-align: top;\n",
       "    }\n",
       "\n",
       "    .dataframe thead th {\n",
       "        text-align: right;\n",
       "    }\n",
       "</style>\n",
       "<table border=\"1\" class=\"dataframe\">\n",
       "  <thead>\n",
       "    <tr style=\"text-align: right;\">\n",
       "      <th></th>\n",
       "      <th>date</th>\n",
       "      <th>expiration_date</th>\n",
       "      <th>strike</th>\n",
       "      <th>days_till_expiration</th>\n",
       "      <th>put_price</th>\n",
       "      <th>stock_price</th>\n",
       "      <th>sell_date</th>\n",
       "      <th>last_price</th>\n",
       "    </tr>\n",
       "  </thead>\n",
       "  <tbody>\n",
       "    <tr>\n",
       "      <th>1631</th>\n",
       "      <td>2018-01-02</td>\n",
       "      <td>2018-12-21</td>\n",
       "      <td>269.000000</td>\n",
       "      <td>353</td>\n",
       "      <td>13.625000</td>\n",
       "      <td>268.810000</td>\n",
       "      <td>2018-12-20</td>\n",
       "      <td>3.355000</td>\n",
       "    </tr>\n",
       "    <tr>\n",
       "      <th>1632</th>\n",
       "      <td>2018-01-03</td>\n",
       "      <td>2018-12-21</td>\n",
       "      <td>270.000000</td>\n",
       "      <td>352</td>\n",
       "      <td>13.130000</td>\n",
       "      <td>270.470000</td>\n",
       "      <td>2018-12-20</td>\n",
       "      <td>3.730000</td>\n",
       "    </tr>\n",
       "    <tr>\n",
       "      <th>1633</th>\n",
       "      <td>2018-01-04</td>\n",
       "      <td>2018-12-21</td>\n",
       "      <td>271.000000</td>\n",
       "      <td>351</td>\n",
       "      <td>13.065000</td>\n",
       "      <td>271.560000</td>\n",
       "      <td>2018-12-20</td>\n",
       "      <td>12.035000</td>\n",
       "    </tr>\n",
       "    <tr>\n",
       "      <th>1634</th>\n",
       "      <td>2018-01-05</td>\n",
       "      <td>2018-12-21</td>\n",
       "      <td>273.000000</td>\n",
       "      <td>350</td>\n",
       "      <td>13.160000</td>\n",
       "      <td>273.410000</td>\n",
       "      <td>2018-12-20</td>\n",
       "      <td>13.910000</td>\n",
       "    </tr>\n",
       "    <tr>\n",
       "      <th>1635</th>\n",
       "      <td>2018-01-08</td>\n",
       "      <td>2018-12-21</td>\n",
       "      <td>274.000000</td>\n",
       "      <td>347</td>\n",
       "      <td>13.300000</td>\n",
       "      <td>273.940000</td>\n",
       "      <td>2018-12-20</td>\n",
       "      <td>14.900000</td>\n",
       "    </tr>\n",
       "    <tr>\n",
       "      <th>...</th>\n",
       "      <td>...</td>\n",
       "      <td>...</td>\n",
       "      <td>...</td>\n",
       "      <td>...</td>\n",
       "      <td>...</td>\n",
       "      <td>...</td>\n",
       "      <td>...</td>\n",
       "      <td>...</td>\n",
       "    </tr>\n",
       "    <tr>\n",
       "      <th>2751</th>\n",
       "      <td>2023-01-23</td>\n",
       "      <td>2023-12-29</td>\n",
       "      <td>400.000000</td>\n",
       "      <td>340</td>\n",
       "      <td>25.685000</td>\n",
       "      <td>400.630000</td>\n",
       "      <td>2023-12-28</td>\n",
       "      <td>0.005000</td>\n",
       "    </tr>\n",
       "    <tr>\n",
       "      <th>2752</th>\n",
       "      <td>2023-01-24</td>\n",
       "      <td>2023-12-29</td>\n",
       "      <td>400.000000</td>\n",
       "      <td>339</td>\n",
       "      <td>25.140000</td>\n",
       "      <td>400.230000</td>\n",
       "      <td>2023-12-28</td>\n",
       "      <td>0.005000</td>\n",
       "    </tr>\n",
       "    <tr>\n",
       "      <th>2753</th>\n",
       "      <td>2023-01-25</td>\n",
       "      <td>2023-12-29</td>\n",
       "      <td>400.000000</td>\n",
       "      <td>338</td>\n",
       "      <td>24.935000</td>\n",
       "      <td>400.320000</td>\n",
       "      <td>2023-12-28</td>\n",
       "      <td>0.005000</td>\n",
       "    </tr>\n",
       "    <tr>\n",
       "      <th>2754</th>\n",
       "      <td>2023-01-26</td>\n",
       "      <td>2023-12-29</td>\n",
       "      <td>405.000000</td>\n",
       "      <td>337</td>\n",
       "      <td>24.650000</td>\n",
       "      <td>404.730000</td>\n",
       "      <td>2023-12-28</td>\n",
       "      <td>0.005000</td>\n",
       "    </tr>\n",
       "    <tr>\n",
       "      <th>2755</th>\n",
       "      <td>2023-01-27</td>\n",
       "      <td>2023-12-29</td>\n",
       "      <td>405.000000</td>\n",
       "      <td>336</td>\n",
       "      <td>24.155000</td>\n",
       "      <td>405.680000</td>\n",
       "      <td>2023-12-28</td>\n",
       "      <td>0.005000</td>\n",
       "    </tr>\n",
       "  </tbody>\n",
       "</table>\n",
       "<p>1125 rows × 8 columns</p>\n",
       "</div>"
      ],
      "text/plain": [
       "           date expiration_date     strike  days_till_expiration  put_price  \\\n",
       "1631 2018-01-02      2018-12-21 269.000000                   353  13.625000   \n",
       "1632 2018-01-03      2018-12-21 270.000000                   352  13.130000   \n",
       "1633 2018-01-04      2018-12-21 271.000000                   351  13.065000   \n",
       "1634 2018-01-05      2018-12-21 273.000000                   350  13.160000   \n",
       "1635 2018-01-08      2018-12-21 274.000000                   347  13.300000   \n",
       "...         ...             ...        ...                   ...        ...   \n",
       "2751 2023-01-23      2023-12-29 400.000000                   340  25.685000   \n",
       "2752 2023-01-24      2023-12-29 400.000000                   339  25.140000   \n",
       "2753 2023-01-25      2023-12-29 400.000000                   338  24.935000   \n",
       "2754 2023-01-26      2023-12-29 405.000000                   337  24.650000   \n",
       "2755 2023-01-27      2023-12-29 405.000000                   336  24.155000   \n",
       "\n",
       "      stock_price  sell_date  last_price  \n",
       "1631   268.810000 2018-12-20    3.355000  \n",
       "1632   270.470000 2018-12-20    3.730000  \n",
       "1633   271.560000 2018-12-20   12.035000  \n",
       "1634   273.410000 2018-12-20   13.910000  \n",
       "1635   273.940000 2018-12-20   14.900000  \n",
       "...           ...        ...         ...  \n",
       "2751   400.630000 2023-12-28    0.005000  \n",
       "2752   400.230000 2023-12-28    0.005000  \n",
       "2753   400.320000 2023-12-28    0.005000  \n",
       "2754   404.730000 2023-12-28    0.005000  \n",
       "2755   405.680000 2023-12-28    0.005000  \n",
       "\n",
       "[1125 rows x 8 columns]"
      ]
     },
     "execution_count": 67,
     "metadata": {},
     "output_type": "execute_result"
    }
   ],
   "source": [
    "strategies[TICKER]"
   ]
  },
  {
   "cell_type": "markdown",
   "metadata": {},
   "source": [
    "## Determine Which Options To Trade"
   ]
  },
  {
   "cell_type": "code",
   "execution_count": 68,
   "metadata": {},
   "outputs": [],
   "source": [
    "def leaps_to_trade(leap_options):\n",
    "    # Set first leap to the first `leap_options['date']`\n",
    "    leap_dates = [leap_options['date'].iloc[0]]\n",
    "\n",
    "    # Set the first `sell_date` to the sell date of the first `leap_options['date']`\n",
    "    sell_date = leap_options.loc[leap_options['date'] == leap_dates[-1]]['sell_date'].iloc[0]\n",
    "\n",
    "    # Iterate through the `leap_options` until the `sell_date` > the last `leap_options['date']`\n",
    "    while sell_date < leap_options['date'].iloc[-1]:\n",
    "\n",
    "        leap_dates.append(leap_options.loc[leap_options['date'] > sell_date]['date'].iloc[0])\n",
    "\n",
    "        # Set `sell_date` to the expiration date of the previously appended `leap_dates`\n",
    "        sell_date = leap_options.loc[leap_options['date'] == leap_dates[-1]]['sell_date'].iloc[0]\n",
    "\n",
    "    return leap_dates\n",
    "\n",
    "# Initiate a dictionary to find each trade performed\n",
    "portfolio_trades = {}\n",
    "\n",
    "# Iterate through each ticker\n",
    "for TICKER in TICKERS:\n",
    "    leap_dates = leaps_to_trade(strategies[TICKER])\n",
    "\n",
    "    # Get all the options from `leap_options` with the starting dates within `leap_dates`\n",
    "    portfolio_trades[TICKER] = strategies[TICKER].loc[strategies[TICKER]['date'].isin(leap_dates)].reset_index(drop=True).dropna()"
   ]
  },
  {
   "cell_type": "code",
   "execution_count": 69,
   "metadata": {},
   "outputs": [
    {
     "data": {
      "text/html": [
       "<div>\n",
       "<style scoped>\n",
       "    .dataframe tbody tr th:only-of-type {\n",
       "        vertical-align: middle;\n",
       "    }\n",
       "\n",
       "    .dataframe tbody tr th {\n",
       "        vertical-align: top;\n",
       "    }\n",
       "\n",
       "    .dataframe thead th {\n",
       "        text-align: right;\n",
       "    }\n",
       "</style>\n",
       "<table border=\"1\" class=\"dataframe\">\n",
       "  <thead>\n",
       "    <tr style=\"text-align: right;\">\n",
       "      <th></th>\n",
       "      <th>date</th>\n",
       "      <th>expiration_date</th>\n",
       "      <th>strike</th>\n",
       "      <th>days_till_expiration</th>\n",
       "      <th>put_price</th>\n",
       "      <th>stock_price</th>\n",
       "      <th>sell_date</th>\n",
       "      <th>last_price</th>\n",
       "    </tr>\n",
       "  </thead>\n",
       "  <tbody>\n",
       "    <tr>\n",
       "      <th>0</th>\n",
       "      <td>2018-01-02</td>\n",
       "      <td>2018-12-21</td>\n",
       "      <td>269.000000</td>\n",
       "      <td>353</td>\n",
       "      <td>13.625000</td>\n",
       "      <td>268.810000</td>\n",
       "      <td>2018-12-20</td>\n",
       "      <td>3.355000</td>\n",
       "    </tr>\n",
       "    <tr>\n",
       "      <th>1</th>\n",
       "      <td>2018-12-21</td>\n",
       "      <td>2019-12-20</td>\n",
       "      <td>241.000000</td>\n",
       "      <td>364</td>\n",
       "      <td>18.590000</td>\n",
       "      <td>240.720000</td>\n",
       "      <td>2019-12-19</td>\n",
       "      <td>0.005000</td>\n",
       "    </tr>\n",
       "    <tr>\n",
       "      <th>2</th>\n",
       "      <td>2019-12-20</td>\n",
       "      <td>2020-12-18</td>\n",
       "      <td>321.000000</td>\n",
       "      <td>364</td>\n",
       "      <td>19.270000</td>\n",
       "      <td>320.850000</td>\n",
       "      <td>2020-12-17</td>\n",
       "      <td>0.010000</td>\n",
       "    </tr>\n",
       "    <tr>\n",
       "      <th>3</th>\n",
       "      <td>2020-12-18</td>\n",
       "      <td>2021-12-17</td>\n",
       "      <td>369.000000</td>\n",
       "      <td>364</td>\n",
       "      <td>31.815000</td>\n",
       "      <td>369.230000</td>\n",
       "      <td>2021-12-16</td>\n",
       "      <td>0.005000</td>\n",
       "    </tr>\n",
       "    <tr>\n",
       "      <th>4</th>\n",
       "      <td>2021-12-17</td>\n",
       "      <td>2022-12-16</td>\n",
       "      <td>460.000000</td>\n",
       "      <td>364</td>\n",
       "      <td>39.835000</td>\n",
       "      <td>459.860000</td>\n",
       "      <td>2022-12-15</td>\n",
       "      <td>72.315000</td>\n",
       "    </tr>\n",
       "    <tr>\n",
       "      <th>5</th>\n",
       "      <td>2022-12-19</td>\n",
       "      <td>2023-12-15</td>\n",
       "      <td>380.000000</td>\n",
       "      <td>361</td>\n",
       "      <td>30.750000</td>\n",
       "      <td>380.020000</td>\n",
       "      <td>2023-12-14</td>\n",
       "      <td>0.005000</td>\n",
       "    </tr>\n",
       "  </tbody>\n",
       "</table>\n",
       "</div>"
      ],
      "text/plain": [
       "        date expiration_date     strike  days_till_expiration  put_price  \\\n",
       "0 2018-01-02      2018-12-21 269.000000                   353  13.625000   \n",
       "1 2018-12-21      2019-12-20 241.000000                   364  18.590000   \n",
       "2 2019-12-20      2020-12-18 321.000000                   364  19.270000   \n",
       "3 2020-12-18      2021-12-17 369.000000                   364  31.815000   \n",
       "4 2021-12-17      2022-12-16 460.000000                   364  39.835000   \n",
       "5 2022-12-19      2023-12-15 380.000000                   361  30.750000   \n",
       "\n",
       "   stock_price  sell_date  last_price  \n",
       "0   268.810000 2018-12-20    3.355000  \n",
       "1   240.720000 2019-12-19    0.005000  \n",
       "2   320.850000 2020-12-17    0.010000  \n",
       "3   369.230000 2021-12-16    0.005000  \n",
       "4   459.860000 2022-12-15   72.315000  \n",
       "5   380.020000 2023-12-14    0.005000  "
      ]
     },
     "execution_count": 69,
     "metadata": {},
     "output_type": "execute_result"
    }
   ],
   "source": [
    "portfolio_trades['SPY']"
   ]
  },
  {
   "cell_type": "code",
   "execution_count": 73,
   "metadata": {},
   "outputs": [
    {
     "data": {
      "text/html": [
       "<div>\n",
       "<style scoped>\n",
       "    .dataframe tbody tr th:only-of-type {\n",
       "        vertical-align: middle;\n",
       "    }\n",
       "\n",
       "    .dataframe tbody tr th {\n",
       "        vertical-align: top;\n",
       "    }\n",
       "\n",
       "    .dataframe thead th {\n",
       "        text-align: right;\n",
       "    }\n",
       "</style>\n",
       "<table border=\"1\" class=\"dataframe\">\n",
       "  <thead>\n",
       "    <tr style=\"text-align: right;\">\n",
       "      <th></th>\n",
       "      <th>date</th>\n",
       "      <th>expiration_date</th>\n",
       "      <th>strike</th>\n",
       "      <th>days_till_expiration</th>\n",
       "      <th>put_price</th>\n",
       "      <th>stock_price</th>\n",
       "      <th>sell_date</th>\n",
       "      <th>last_price</th>\n",
       "    </tr>\n",
       "  </thead>\n",
       "  <tbody>\n",
       "    <tr>\n",
       "      <th>0</th>\n",
       "      <td>2018-01-02</td>\n",
       "      <td>2018-12-31</td>\n",
       "      <td>158.000000</td>\n",
       "      <td>363</td>\n",
       "      <td>9.970000</td>\n",
       "      <td>158.450000</td>\n",
       "      <td>2018-12-28</td>\n",
       "      <td>5.335000</td>\n",
       "    </tr>\n",
       "    <tr>\n",
       "      <th>1</th>\n",
       "      <td>2018-12-31</td>\n",
       "      <td>2020-01-17</td>\n",
       "      <td>154.000000</td>\n",
       "      <td>382</td>\n",
       "      <td>14.155000</td>\n",
       "      <td>154.120000</td>\n",
       "      <td>2020-01-16</td>\n",
       "      <td>0.010000</td>\n",
       "    </tr>\n",
       "    <tr>\n",
       "      <th>2</th>\n",
       "      <td>2020-01-17</td>\n",
       "      <td>2020-12-18</td>\n",
       "      <td>223.000000</td>\n",
       "      <td>336</td>\n",
       "      <td>13.725000</td>\n",
       "      <td>223.380000</td>\n",
       "      <td>2020-12-17</td>\n",
       "      <td>0.005000</td>\n",
       "    </tr>\n",
       "    <tr>\n",
       "      <th>3</th>\n",
       "      <td>2020-12-18</td>\n",
       "      <td>2021-12-17</td>\n",
       "      <td>310.000000</td>\n",
       "      <td>364</td>\n",
       "      <td>32.070000</td>\n",
       "      <td>310.010000</td>\n",
       "      <td>2021-12-16</td>\n",
       "      <td>0.010000</td>\n",
       "    </tr>\n",
       "    <tr>\n",
       "      <th>4</th>\n",
       "      <td>2021-12-17</td>\n",
       "      <td>2022-12-16</td>\n",
       "      <td>385.000000</td>\n",
       "      <td>364</td>\n",
       "      <td>38.655000</td>\n",
       "      <td>384.960000</td>\n",
       "      <td>2022-12-15</td>\n",
       "      <td>108.080000</td>\n",
       "    </tr>\n",
       "    <tr>\n",
       "      <th>5</th>\n",
       "      <td>2022-12-19</td>\n",
       "      <td>2023-12-15</td>\n",
       "      <td>270.000000</td>\n",
       "      <td>361</td>\n",
       "      <td>25.900000</td>\n",
       "      <td>269.890000</td>\n",
       "      <td>2023-12-14</td>\n",
       "      <td>0.005000</td>\n",
       "    </tr>\n",
       "  </tbody>\n",
       "</table>\n",
       "</div>"
      ],
      "text/plain": [
       "        date expiration_date     strike  days_till_expiration  put_price  \\\n",
       "0 2018-01-02      2018-12-31 158.000000                   363   9.970000   \n",
       "1 2018-12-31      2020-01-17 154.000000                   382  14.155000   \n",
       "2 2020-01-17      2020-12-18 223.000000                   336  13.725000   \n",
       "3 2020-12-18      2021-12-17 310.000000                   364  32.070000   \n",
       "4 2021-12-17      2022-12-16 385.000000                   364  38.655000   \n",
       "5 2022-12-19      2023-12-15 270.000000                   361  25.900000   \n",
       "\n",
       "   stock_price  sell_date  last_price  \n",
       "0   158.450000 2018-12-28    5.335000  \n",
       "1   154.120000 2020-01-16    0.010000  \n",
       "2   223.380000 2020-12-17    0.005000  \n",
       "3   310.010000 2021-12-16    0.010000  \n",
       "4   384.960000 2022-12-15  108.080000  \n",
       "5   269.890000 2023-12-14    0.005000  "
      ]
     },
     "execution_count": 73,
     "metadata": {},
     "output_type": "execute_result"
    }
   ],
   "source": [
    "portfolio_trades['QQQ']"
   ]
  },
  {
   "cell_type": "markdown",
   "metadata": {},
   "source": [
    "## Trade Options"
   ]
  },
  {
   "cell_type": "code",
   "execution_count": 70,
   "metadata": {},
   "outputs": [],
   "source": [
    "initial_investment = 1000000\n",
    "stock_data = {}\n",
    "stock_shares = {}\n",
    "for TICKER in TICKERS:\n",
    "    ret = stocks['Adj Close'][TICKER].pct_change()\n",
    "    stock_data[TICKER] = ret\n",
    "    stock_data[TICKER] = stock_data[TICKER][AFTER_DATE:BEFORE_DATE]\n",
    "    stock_shares[TICKER] = initial_investment / stocks['Adj Close'][TICKER].iloc[0]\n"
   ]
  },
  {
   "cell_type": "code",
   "execution_count": null,
   "metadata": {},
   "outputs": [
    {
     "name": "stdout",
     "output_type": "stream",
     "text": [
      "Processing: QQQ\n",
      "2018-01-02 00:00:00\n",
      "812554.9999999999\n",
      "-----------------------------------\n",
      "2018-12-31 00:00:00\n",
      "610080.5\n",
      "-----------------------------------\n",
      "2020-01-17 00:00:00\n",
      "1527592.5000000002\n",
      "-----------------------------------\n",
      "2020-12-18 00:00:00\n",
      "2517495.0\n",
      "-----------------------------------\n",
      "2021-12-17 00:00:00\n",
      "4120623.0\n",
      "-----------------------------------\n",
      "2022-12-19 00:00:00\n",
      "1541050.0\n",
      "-----------------------------------\n"
     ]
    }
   ],
   "source": [
    "\n",
    "def invest_earnings(option_data, current_shares, current_share_price, total_investment, option_gain_prior):\n",
    "    \"\"\"\n",
    "    option_data: slice of DF containing all rows/dates for the option we hold\n",
    "    current_shares: (float) how many shares we currently own\n",
    "    current_share_price: share price at the time we buy the put\n",
    "    total_investment: total $ amount in stock at that time (current_shares * current_share_price)\n",
    "    \"\"\"\n",
    "    # 10% of the total_investment is allocated to puts\n",
    "    # each option contract covers 100 shares\n",
    "    cost_per_contract = option_data.iloc[0]['put_price'] * 100\n",
    "    num_puts = np.round(((total_investment) * 0.05) / cost_per_contract)\n",
    "\n",
    "    # Deduct the cost of the puts from the stock portion\n",
    "    # i.e., we reduce the number of shares to free up that capital\n",
    "    cost_of_puts = num_puts * cost_per_contract\n",
    "    print(cost_of_puts)\n",
    "    shares_sold = cost_of_puts / current_share_price\n",
    "    updated_shares = current_shares - shares_sold\n",
    "    \n",
    "    # Compute the profit time series from these puts\n",
    "    # Profit per day = (# of contracts * 100) * [put_price(t) - put_price(0)]\n",
    "    put_profit = num_puts * 100 * (option_data['put_price']) + option_gain_prior\n",
    "    \n",
    "    # Build a DataFrame with date/profit info\n",
    "    put_profit_df = pd.DataFrame({\n",
    "        'date': option_data['date'],\n",
    "        'profit': put_profit,\n",
    "        'start_date': option_data.iloc[0]['date'],\n",
    "        'end_date': option_data.iloc[-1]['date']\n",
    "    }).sort_values(by='date')\n",
    "    \n",
    "    # Build a DataFrame tracking how many shares are left\n",
    "    # We'll create it only for the day we made this transaction\n",
    "    share_data_df = pd.DataFrame(\n",
    "        {'shares': [updated_shares]},\n",
    "        index=[option_data.iloc[0]['date']]\n",
    "    )\n",
    "\n",
    "    last_put_profit = put_profit_df.iloc[-1]['profit']\n",
    "\n",
    "    return put_profit_df, share_data_df, last_put_profit\n",
    "\n",
    "# -------------------------------------------------------------------\n",
    "# 3) Main loop: for each TICKER, gather results\n",
    "# -------------------------------------------------------------------\n",
    "results = {}\n",
    "all_shares = {}\n",
    "\n",
    "for TICKER in TICKERS:\n",
    "    print(\"Processing:\", TICKER)\n",
    "\n",
    "    # Start with the number of shares we had from the initial 1M at T=0\n",
    "    num_shares = stock_shares[TICKER]\n",
    "\n",
    "    # These lists will accumulate DataFrames\n",
    "    ticker_results_list = []\n",
    "    share_tick_list = []\n",
    "    option_gain_prior = 0\n",
    "\n",
    "    # Go through each row in our \"portfolio_trades\" for that ticker\n",
    "    for _, put_leap in portfolio_trades[TICKER].iterrows():\n",
    "        print(put_leap['date'])\n",
    "        \n",
    "        # Slice the option data to only the matching expiration date, strike, and time window\n",
    "        put_follow = portfolio_option_data[TICKER].loc[\n",
    "            (portfolio_option_data[TICKER]['expiration_date'] == put_leap['expiration_date']) & \n",
    "            (portfolio_option_data[TICKER]['strike'] == put_leap['strike']) & \n",
    "            (portfolio_option_data[TICKER]['date'] >= put_leap['date']) &\n",
    "            (portfolio_option_data[TICKER]['date'] <= put_leap['sell_date'])\n",
    "        ]\n",
    "        \n",
    "        # Calculate how much $ we currently have in the stock\n",
    "        share_price = stocks['Adj Close'][TICKER].loc[put_leap['date']]\n",
    "        investment_value = num_shares * share_price\n",
    "        \n",
    "        # Call the function to invest in the put and adjust shares\n",
    "        tick_results, share_data, gain_prior = invest_earnings(\n",
    "            put_follow, \n",
    "            current_shares=num_shares, \n",
    "            current_share_price=share_price, \n",
    "            total_investment=investment_value,\n",
    "            option_gain_prior=option_gain_prior\n",
    "        )\n",
    "\n",
    "        option_gain_prior = gain_prior\n",
    "        \n",
    "        # Collect the DataFrames\n",
    "        ticker_results_list.append(tick_results)\n",
    "        share_tick_list.append(share_data)\n",
    "\n",
    "        # Update our number of shares to what the function returned\n",
    "        num_shares = share_data['shares'].iloc[0]\n",
    "        print('-----------------------------------')\n",
    "\n",
    "    # Sort the individual put-profit DataFrames by their start_date\n",
    "    ticker_results_list = sorted(ticker_results_list, key=lambda df: df.iloc[0]['start_date'])\n",
    "    # Then concatenate them\n",
    "    ticker_results_df = pd.concat(ticker_results_list, ignore_index=True).sort_values(by='date')\n",
    "    \n",
    "    # Make 'date' the index\n",
    "    ticker_results_df = ticker_results_df.set_index('date', drop=True)\n",
    "\n",
    "    # Now the shares:\n",
    "    share_tick_list = sorted(share_tick_list, key=lambda df: df.index[0])\n",
    "    share_tick_df = pd.concat(share_tick_list)\n",
    "    \n",
    "    # We want a consistent date index that includes *both* option P/L and stock returns\n",
    "    full_index = ticker_results_df.index.union(stock_data[TICKER].index)\n",
    "\n",
    "    # Reindex everything on that union, forward-fill\n",
    "    ticker_performance = ticker_results_df.reindex(full_index).ffill()\n",
    "    stock_performance = stock_data[TICKER].reindex(full_index).ffill()\n",
    "    share_tick_df = share_tick_df.reindex(full_index).ffill()\n",
    "\n",
    "    # The stock portion grows by (1 + daily_return).cumprod() if we never changed shares\n",
    "    # But since we do occasionally change shares, let's keep it simple:\n",
    "    #   Start with 'share_tick_df[\"shares\"]' as of the first day\n",
    "    #   Then apply (1 + stock_performance).cumprod() to track the *price* changes\n",
    "    #   multiplied by the *current* number of shares, scaled by the initial price or daily price\n",
    "    #\n",
    "    # If your intent is to recalc daily, you might do something else more dynamic. \n",
    "    # For a simpler approach:\n",
    "    stock_initial_price = stocks['Adj Close'][TICKER].iloc[0]\n",
    "    stock_price_growth = (1 + stock_performance).cumprod()\n",
    "    \n",
    "    # Value of the stock holding over time:\n",
    "    stock_share_value = stock_price_growth * share_tick_df['shares'] * stock_initial_price\n",
    "    \n",
    "    # Combine (put profits + stock share value). \n",
    "    # We divide by the original 'investment_value' if you want a return multiple\n",
    "    combo_results = ticker_performance['profit'] + stock_share_value\n",
    "    \n",
    "    # pd.set_option('display.max_rows', None)\n",
    "    # print(ticker_performance)\n",
    "    # pd.reset_option('display.max_rows')\n",
    "    break\n",
    "\n",
    "    \n",
    "    # Be careful with \"investment_value\": after multiple trades, \n",
    "    # you may want to scale by the original 'initial_investment' or do it run‐by‐run. \n",
    "    # Below we just scale by the *final* iteration's investment_value or the initial_investment:\n",
    "    results[TICKER] = combo_results / initial_investment\n",
    "\n"
   ]
  },
  {
   "cell_type": "code",
   "execution_count": 87,
   "metadata": {},
   "outputs": [
    {
     "data": {
      "image/png": "[encoded data removed]",
      "text/plain": [
       "<Figure size 640x480 with 1 Axes>"
      ]
     },
     "metadata": {},
     "output_type": "display_data"
    },
    {
     "data": {
      "image/png": "[encoded data removed]",
      "text/plain": [
       "<Figure size 640x480 with 1 Axes>"
      ]
     },
     "metadata": {},
     "output_type": "display_data"
    }
   ],
   "source": [
    "# -------------------------------------------------------------------\n",
    "# 4) Plot the results\n",
    "# -------------------------------------------------------------------\n",
    "for TICKER in TICKERS:\n",
    "    if TICKER not in results:\n",
    "        continue\n",
    "    plt.title(TICKER)\n",
    "    plt.plot(results[TICKER], label=f\"{TICKER} strategy return\")\n",
    "    plt.legend()\n",
    "    plt.show()\n"
   ]
  }
 ],
 "metadata": {
  "kernelspec": {
   "display_name": "Python 3",
   "language": "python",
   "name": "python3"
  },
  "language_info": {
   "codemirror_mode": {
    "name": "ipython",
    "version": 3
   },
   "file_extension": ".py",
   "mimetype": "text/x-python",
   "name": "python",
   "nbconvert_exporter": "python",
   "pygments_lexer": "ipython3",
   "version": "3.9.6"
  }
 },
 "nbformat": 4,
 "nbformat_minor": 2
}
